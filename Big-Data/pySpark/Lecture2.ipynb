{
 "cells": [
  {
   "cell_type": "code",
   "execution_count": null,
   "metadata": {},
   "outputs": [],
   "source": [
    "from pyspark import SparkContext\n",
    "from pyspark.sql import SparkSession\n",
    "\n",
    "sc = SparkContext('local', 'demo')\n",
    "data = [('Abhay', 'Sahani'), ('Aman', 'Vishwakarma'), ('Rohit', 'Kumar')]\n",
    "\n",
    "df = sc.parallelize(data)\n",
    "df.collect()\n",
    "\n",
    "df1 = df.map(lambda x: x[0] + ' ' + x[1])\n",
    "df1.collect()\n",
    "\n",
    "spark = SparkSession.builder.getOrCreate()\n",
    "df2 = spark.createDataFrame(df, ['First Name', 'Last Name'])\n",
    "df2.collect()"
   ]
  }
 ],
 "metadata": {
  "kernelspec": {
   "display_name": "Python 3",
   "language": "python",
   "name": "python3"
  },
  "language_info": {
   "codemirror_mode": {
    "name": "ipython",
    "version": 3
   },
   "file_extension": ".py",
   "mimetype": "text/x-python",
   "name": "python",
   "nbconvert_exporter": "python",
   "pygments_lexer": "ipython3",
   "version": "3.11.4"
  }
 },
 "nbformat": 4,
 "nbformat_minor": 2
}
