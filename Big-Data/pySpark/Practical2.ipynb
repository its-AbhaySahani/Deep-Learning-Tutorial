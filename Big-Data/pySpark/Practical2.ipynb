{
 "cells": [
  {
   "cell_type": "markdown",
   "metadata": {},
   "source": [
    "### Implement a custom transformation operation on an RDD to compute the average of all numbers in the RDD. Use Python to define a funtion that takes an RDD as input, applies the map transformation to convert the RDD elements intop tuples of (value, 1), reduces the tuples using the reduceByKey transformation, and computes the average using ther mapValues tranformation. Use ther funtion to calculater the average of a sample RDD of integers."
   ]
  },
  {
   "cell_type": "code",
   "execution_count": 3,
   "metadata": {},
   "outputs": [],
   "source": [
    "from pyspark import SparkContext\n",
    "\n",
    "def process_rdd(sc, numbers):\n",
    "    rdd = sc.parallelize(numbers)\n",
    "    rdd_mapped = rdd.map(lambda x: (x, 1))\n",
    "    reduced_rdd = rdd_mapped.reduceByKey(lambda x, y: x + y)\n",
    "    avg = reduced_rdd.mapValues(lambda x: x[0] / x[1])\n",
    "    result = avg.collect()\n",
    "    return result\n",
    "\n",
    "    numbers = [1, 2, 3, 4, 5, 6, 7, 8, 9, 10]\n",
    "    result = process_rdd(sc, numbers)\n",
    "    print(result)"
   ]
  }
 ],
 "metadata": {
  "kernelspec": {
   "display_name": "Python 3",
   "language": "python",
   "name": "python3"
  },
  "language_info": {
   "codemirror_mode": {
    "name": "ipython",
    "version": 3
   },
   "file_extension": ".py",
   "mimetype": "text/x-python",
   "name": "python",
   "nbconvert_exporter": "python",
   "pygments_lexer": "ipython3",
   "version": "3.11.4"
  }
 },
 "nbformat": 4,
 "nbformat_minor": 2
}
